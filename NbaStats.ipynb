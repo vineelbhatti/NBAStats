{
  "nbformat": 4,
  "nbformat_minor": 0,
  "metadata": {
    "colab": {
      "provenance": [],
      "mount_file_id": "1PrN-AJ7tnzK3__8CQzmgVZPYoQEIXRvB",
      "authorship_tag": "ABX9TyMXjFlT4QWvDbkPDp3/ny4h",
      "include_colab_link": true
    },
    "kernelspec": {
      "name": "python3",
      "display_name": "Python 3"
    },
    "language_info": {
      "name": "python"
    }
  },
  "cells": [
    {
      "cell_type": "markdown",
      "metadata": {
        "id": "view-in-github",
        "colab_type": "text"
      },
      "source": [
        "<a href=\"https://colab.research.google.com/github/vineelbhatti/NBAStats/blob/main/NbaStats.ipynb\" target=\"_parent\"><img src=\"https://colab.research.google.com/assets/colab-badge.svg\" alt=\"Open In Colab\"/></a>"
      ]
    },
    {
      "cell_type": "code",
      "execution_count": null,
      "metadata": {
        "colab": {
          "base_uri": "https://localhost:8080/"
        },
        "id": "CKy5v0tHlgty",
        "outputId": "357a5662-2bad-4d1d-d8b0-e7d4245cc1f6"
      },
      "outputs": [
        {
          "output_type": "stream",
          "name": "stdout",
          "text": [
            "Mean Squared Error: 126.58751849449848\n",
            "R2 Score: 0.0043192934130604765\n",
            "Predicted Target: [-0.5206893  -1.14076117 -0.58596002 -1.04285509 -0.65123074 -1.01021972\n",
            " -0.71650147 -0.944949   -0.78177219 -0.87967828]\n"
          ]
        },
        {
          "output_type": "stream",
          "name": "stderr",
          "text": [
            "/usr/local/lib/python3.8/dist-packages/sklearn/base.py:450: UserWarning: X does not have valid feature names, but LinearRegression was fitted with feature names\n",
            "  warnings.warn(\n"
          ]
        }
      ],
      "source": [
        "import pandas as pd\n",
        "import numpy as np\n",
        "from sklearn.model_selection import train_test_split\n",
        "from sklearn.linear_model import LinearRegression\n",
        "from sklearn.metrics import mean_squared_error, r2_score\n",
        "\n",
        "# Load data\n",
        "data = pd.read_csv('/content/drive/MyDrive/Colab Notebooks/Data/all_seasons.csv')\n",
        "\n",
        "# Prepare data\n",
        "data = data[data['draft_number'] != 'Undrafted']\n",
        "X= pd.DataFrame(data['draft_number'])\n",
        "Y= pd.DataFrame(data['net_rating'])\n",
        "X_train, X_test, y_train, y_test = train_test_split(X, y, test_size=0.2, random_state=42)\n",
        "\n",
        "# Train model\n",
        "model = LinearRegression()\n",
        "model.fit(X_train, y_train)\n",
        "\n",
        "# Evaluate model\n",
        "y_pred = model.predict(X_test)\n",
        "mse = mean_squared_error(y_test, y_pred)\n",
        "r2 = r2_score(y_test, y_pred)\n",
        "print(\"Mean Squared Error:\", mse)\n",
        "print(\"R2 Score:\", r2)\n",
        "\n",
        "# # Make predictions\n",
        "# data = {'draft_number': [1, 2, 3, 4, 5],\n",
        "#         'net_rating': [10.5, 9.0, 8.5, 7.5, 6.5]}\n",
        "\n",
        "# # Create a dataframe from the dictionary\n",
        "# df = pd.DataFrame(data).values.reshape(-1, 1)\n",
        "# predicted_target = model.predict(df)\n",
        "# print(\"Predicted Target:\", predicted_target)\n"
      ]
    }
  ]
}